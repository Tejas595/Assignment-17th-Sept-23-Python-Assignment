{
 "cells": [
  {
   "cell_type": "markdown",
   "id": "be48ae90-1b28-4a05-bf11-4539d5a62646",
   "metadata": {},
   "source": [
    "# For Loop "
   ]
  },
  {
   "cell_type": "code",
   "execution_count": 11,
   "id": "42fdcbc2-ea38-4685-a593-3110175f1f82",
   "metadata": {},
   "outputs": [
    {
     "name": "stdout",
     "output_type": "stream",
     "text": [
      "1 2 3 4 5 6 7 8 9 10 "
     ]
    }
   ],
   "source": [
    "# 1)Write a Python program to print numbers from 1 to 10 using a for loop.\n",
    "def print_upto10():\n",
    "    for numbers in range(1,11):\n",
    "        print (numbers,end=\" \")\n",
    "print_upto10()"
   ]
  },
  {
   "cell_type": "markdown",
   "id": "21551eb6-7771-43f4-a05b-95bbda81f28c",
   "metadata": {},
   "source": [
    " # 2)Explain the difference between a for loop and a while loop in Python.\n",
    " for Loop =>                                                                 |    while loop =>\n",
    "\n",
    " \n",
    " 1) Iteration variable is defined within the loop.                           |     1)Initialization is done separately before the loop\n",
    " \n",
    " 2) Iterates over a sequence (e.g., list, tuple, range).                     |     2)Loop continues while a specified condition is true.\n",
    " \n",
    " 3) Automatically handles iteration over the sequence.                       |     3)Must manually increment the loop variable.\n",
    " \n",
    " 4) Ideal for iterating over a known sequence.                               |     4)Best for loops where the number of iterations is unknown.\n",
    " \n",
    " 5) Syntax = for var in sequence:                                            |     5)Syntax = while condition:\n",
    " \n",
    " 6) Less flexible . primarily for iterating over items in a sequence.        |     6)More flexible . can be used for various conditions.   \n",
    " \n",
    " 7) Ends after the sequence is fully iterated.                               |     7)Ends when the condition becomes false\n",
    " \n",
    " 8) More readable and concise for sequence iteration.                        |     8)Can be less readable if the loop condition is complex.\n",
    " \n",
    " 9) Example:                                                                 |     9)Example:\n",
    "for i in range(5):                                                           |     i = 0\n",
    "    print(i)                                                                 |     while i < 5:\n",
    "                                                                             |           print(i)\n",
    "                                                                             |          i += 1"
   ]
  },
  {
   "cell_type": "code",
   "execution_count": 6,
   "id": "289816e8-d4d9-4125-89e4-7bc5b2084ead",
   "metadata": {},
   "outputs": [
    {
     "name": "stdout",
     "output_type": "stream",
     "text": [
      "5050\n"
     ]
    }
   ],
   "source": [
    "# 3)Write a Python program to calculate the sum of all numbers from 1 to 100 using a for loop.\n",
    "def sum100():\n",
    "    sum=0\n",
    "    for n in range(1,101):\n",
    "        sum=sum+n\n",
    "    print(sum)\n",
    "sum100()"
   ]
  },
  {
   "cell_type": "markdown",
   "id": "cabdfb41-0c33-4379-ac26-56a2c39be599",
   "metadata": {},
   "source": [
    "# 4)How do you iterate through a list using a for loop in Python?\n",
    "\n",
    "1. Define the list.\n",
    "2. Use the for keyword followed by a variable name and the in keyword.\n",
    "3. Specify the list to iterate over.\n",
    "4. Indent the code block to execute for each element in the list.\n",
    "    "
   ]
  },
  {
   "cell_type": "code",
   "execution_count": 8,
   "id": "379e82d1-547e-426c-aa39-0f520861566f",
   "metadata": {},
   "outputs": [
    {
     "name": "stdout",
     "output_type": "stream",
     "text": [
      "720\n"
     ]
    }
   ],
   "source": [
    "# 5)Write a Python program to find the product of all elements in a list using a for loop.\n",
    "def product (numlist):\n",
    "    total=1\n",
    "    for t in numlist:\n",
    "        total=t*total\n",
    "    print(total)\n",
    "\n",
    "numlist=[1,2,3,4,5,6]\n",
    "product(numlist)"
   ]
  },
  {
   "cell_type": "code",
   "execution_count": 10,
   "id": "37a9b5f3-405d-469f-9a19-74026475b71d",
   "metadata": {},
   "outputs": [
    {
     "name": "stdout",
     "output_type": "stream",
     "text": [
      "2 4 6 8 10 12 14 16 18 20 "
     ]
    }
   ],
   "source": [
    "# 6)Create a Python program that prints all even numbers from 1 to 20 using a for loop.\n",
    "def even ():\n",
    "    for even_num in range(1,21):\n",
    "        if even_num%2==0:\n",
    "            print(even_num,end=\" \")\n",
    "even()"
   ]
  },
  {
   "cell_type": "code",
   "execution_count": 12,
   "id": "b031597f-1201-4418-814f-99fec1d047ed",
   "metadata": {},
   "outputs": [
    {
     "name": "stdout",
     "output_type": "stream",
     "text": [
      "120\n"
     ]
    }
   ],
   "source": [
    "# 7) Write a Python program that calculates the factorial of a number using a for loop.\n",
    "def factorial (num):\n",
    "    count=1\n",
    "    for fact in range(1,num+1):\n",
    "        count=count*fact\n",
    "    print(count)\n",
    "\n",
    "factorial(5)"
   ]
  },
  {
   "cell_type": "markdown",
   "id": "48c02d6f-be75-40e6-8271-492964e7f786",
   "metadata": {},
   "source": [
    "# 8)How can you iterate through the characters of a string using a for loop in Python?\n",
    "\n",
    "\n",
    "1. Define the string.\n",
    "2. Use the for keyword followed by a variable name and the in keyword.\n",
    "3. Specify the string to iterate over.\n",
    "4. Indent the code block to execute for each character in the string."
   ]
  },
  {
   "cell_type": "code",
   "execution_count": 13,
   "id": "8cd095f0-0113-43a4-be46-cc5470eed8b6",
   "metadata": {},
   "outputs": [
    {
     "name": "stdout",
     "output_type": "stream",
     "text": [
      "larest number => 64\n"
     ]
    }
   ],
   "source": [
    "# 9) Write a Python program to find the largest number in a list using a for loop.\n",
    "def largest_number(list):\n",
    "    largest=list[0] \n",
    "    for i in list:\n",
    "        if i>largest:\n",
    "            largest=i\n",
    "    print(\"larest number =>\",largest)\n",
    "list=[1,2,3,5,64,58,21]\n",
    "largest_number(list)"
   ]
  },
  {
   "cell_type": "code",
   "execution_count": 15,
   "id": "8ad35dfe-9c47-4841-97bc-6a993202d977",
   "metadata": {},
   "outputs": [
    {
     "name": "stdout",
     "output_type": "stream",
     "text": [
      "1 1 2 3 5 8 13 21 34 55 "
     ]
    }
   ],
   "source": [
    "# 10)Create a Python program that prints the Fibonacci sequence up to a specified limit using a for loop.\n",
    "def fibonacci():\n",
    "    a,b=0,1\n",
    "    limit=10\n",
    "    for i in range(1,limit+1):\n",
    "        a,b=b,a+b\n",
    "        print(a,end=\" \")\n",
    "fibonacci()"
   ]
  },
  {
   "cell_type": "code",
   "execution_count": 16,
   "id": "bc6af955-3279-4740-9a6e-6d0d432b4e42",
   "metadata": {},
   "outputs": [
    {
     "name": "stdout",
     "output_type": "stream",
     "text": [
      "vowels => 3\n"
     ]
    }
   ],
   "source": [
    "# 11) Write a Python program to count the number of vowels in a given string using a for loop.\n",
    "\n",
    "def vowel_count (string):\n",
    "    count=0\n",
    "    for i in string:\n",
    "        if i in \"aeiouAEIOU\":\n",
    "            count=count+1\n",
    "    print(\"vowels =>\",count)\n",
    "\n",
    "string=\"gemini\"\n",
    "vowel_count(string)"
   ]
  },
  {
   "cell_type": "code",
   "execution_count": 17,
   "id": "1cf06489-38b6-4acb-ad43-5fec03b12a54",
   "metadata": {},
   "outputs": [
    {
     "name": "stdout",
     "output_type": "stream",
     "text": [
      "5  x   1  =  5\n",
      "5  x   2  =  10\n",
      "5  x   3  =  15\n",
      "5  x   4  =  20\n",
      "5  x   5  =  25\n",
      "5  x   6  =  30\n",
      "5  x   7  =  35\n",
      "5  x   8  =  40\n",
      "5  x   9  =  45\n",
      "5  x   10  =  50\n"
     ]
    }
   ],
   "source": [
    "# 12) Create a Python program that generates a multiplication table for a given number using a for loop.\n",
    "def table(table_num):\n",
    "    for i in range(1,11):\n",
    "        total=i*table_num\n",
    "        print(table_num,\" x  \",i ,\" = \",total)\n",
    "\n",
    "table_num=5\n",
    "table(table_num)\n",
    "    "
   ]
  },
  {
   "cell_type": "code",
   "execution_count": 18,
   "id": "8f92e775-1c96-455a-8b36-88254cac5c67",
   "metadata": {},
   "outputs": [
    {
     "name": "stdout",
     "output_type": "stream",
     "text": [
      "[6, 5, 4, 3, 2, 1]\n"
     ]
    }
   ],
   "source": [
    "# 13)Write a Python program to reverse a list using a for loop.\n",
    "\n",
    "def reverse_list(list13):\n",
    "    new_reversed_list= []\n",
    "    for i in range(len(list13)- 1,-1,-1):\n",
    "        new_reversed_list.append(list13[i])\n",
    "    print( new_reversed_list)\n",
    "list13=[1,2,3,4,5,6]\n",
    "reverse_list(list13)"
   ]
  },
  {
   "cell_type": "code",
   "execution_count": 19,
   "id": "405afd3d-4563-40aa-8d3b-8b0ae8abebc1",
   "metadata": {},
   "outputs": [
    {
     "name": "stdout",
     "output_type": "stream",
     "text": [
      "[1, 8, 3, 5]\n"
     ]
    }
   ],
   "source": [
    "# 14)Write a Python program to find the common elements between two lists using a for loop.\n",
    "def common_element(list1,list2):\n",
    "    common_ele=[]\n",
    "    for common in list1:\n",
    "        if common in list2:\n",
    "            common_ele.append(common)\n",
    "    print(common_ele)\n",
    "\n",
    "list1=[1,8,3,5,45,89,23]\n",
    "list2=[8,5,2,1,4,7,9,6,3]\n",
    "common_element(list1,list2)"
   ]
  },
  {
   "cell_type": "markdown",
   "id": "a32f775e-fe11-4543-a8e5-1273975646a6",
   "metadata": {},
   "source": [
    "# 15)Explain how to use a for loop to iterate through the keys and values of a dictionary in Python.\n",
    "\n",
    "1. Create or obtain a dictionary.\n",
    "2. Use the .items() method to get a view of key-value pairs.\n",
    "3. Set up a for loop to iterate over the dictionary using .items().\n",
    "4. Inside the loop, access the key and value as needed."
   ]
  },
  {
   "cell_type": "code",
   "execution_count": 20,
   "id": "8cc8baf7-bf04-4caa-abf6-9d1f082b5a57",
   "metadata": {},
   "outputs": [
    {
     "name": "stdin",
     "output_type": "stream",
     "text": [
      "enter the first number => 15\n",
      "enter the second number => 150\n"
     ]
    },
    {
     "name": "stdout",
     "output_type": "stream",
     "text": [
      "the gcd of  15 and 150 is  15\n"
     ]
    }
   ],
   "source": [
    "# 16)Write a Python program to find the GCD (Greatest Common Divisor) of two numbers using a for loop.\n",
    "def findgcd(number1,number2):\n",
    "    smaller=min(number1,number2)\n",
    "    gcd=1\n",
    "    for i in range(1,smaller+1):\n",
    "        if (number1 % i==0)and (number2 % i==0):\n",
    "            gcd=i\n",
    "    return gcd\n",
    "number1=int(input(\"enter the first number =>\"))\n",
    "number2=int(input(\"enter the second number =>\"))\n",
    "print(\"the gcd of \",number1,\"and\", number2,\"is \",findgcd(number1,number2))"
   ]
  },
  {
   "cell_type": "code",
   "execution_count": 34,
   "id": "7e0ff5c7-842b-4549-8cb5-fcf14702e7f5",
   "metadata": {},
   "outputs": [
    {
     "name": "stdout",
     "output_type": "stream",
     "text": [
      "True\n"
     ]
    }
   ],
   "source": [
    "# 17)Create a Python program that checks if a string is a palindrome using a for loop.\n",
    "\n",
    "def is_palindrome(s):\n",
    "    s = ''.join(filter(str.isalnum, s)).lower()\n",
    "    \n",
    "    length = len(s)\n",
    "    for i in range(length // 2):\n",
    "        if s[i] != s[length - i - 1]:\n",
    "            return False\n",
    "    return True\n",
    "\n",
    "test_string = \"A man, a plan, a canal, Panama\"\n",
    "print(is_palindrome(test_string))  "
   ]
  },
  {
   "cell_type": "code",
   "execution_count": 1,
   "id": "1a921504-5995-4ea1-b120-c79a5a5c23ec",
   "metadata": {},
   "outputs": [
    {
     "name": "stdout",
     "output_type": "stream",
     "text": [
      "[1, 2, 3, 4, 5]\n"
     ]
    }
   ],
   "source": [
    "# 18)Write a Python program to remove duplicates from a list using a for loop.\n",
    "\n",
    "def remove_duplicate(list1):\n",
    "    new_list=[]\n",
    "    for dupli in list1:\n",
    "        if dupli not in  new_list:\n",
    "            new_list.append(dupli)\n",
    "    print(new_list)\n",
    "\n",
    "list1=[1,2,1,2,3,3,1,2,4,5,5,4,3,2,4,3,2,3]\n",
    "remove_duplicate(list1)"
   ]
  },
  {
   "cell_type": "code",
   "execution_count": 2,
   "id": "760b7393-d72d-4fb8-af20-9bb0d1713401",
   "metadata": {},
   "outputs": [
    {
     "name": "stdout",
     "output_type": "stream",
     "text": [
      "3\n"
     ]
    }
   ],
   "source": [
    "# 19)Create a Python program that counts the number of words in a sentence using a for loop.\n",
    "def count_word(sentence):\n",
    "    count=0\n",
    "    word=sentence.split()\n",
    "    for i in word :\n",
    "        count=count+1\n",
    "    print(count)\n",
    "\n",
    "sentence=\"i am groot\"\n",
    "count_word(sentence)"
   ]
  },
  {
   "cell_type": "code",
   "execution_count": 3,
   "id": "974828bf-020e-4b72-af40-51c34d17fc0b",
   "metadata": {},
   "outputs": [
    {
     "name": "stdout",
     "output_type": "stream",
     "text": [
      "625\n"
     ]
    }
   ],
   "source": [
    "# 20)Write a Python program to find the sum of all odd numbers from 1 to 50 using a for loop.\n",
    "\n",
    "def sum_of_odd():\n",
    "    odd_sum=0\n",
    "    for j in range(1,51):\n",
    "        if j%2!=0:\n",
    "            odd_sum=odd_sum +j\n",
    "    print(odd_sum)\n",
    "\n",
    "sum_of_odd()"
   ]
  },
  {
   "cell_type": "code",
   "execution_count": 4,
   "id": "6288b045-5fb0-4882-98d8-da819ebb1cf5",
   "metadata": {},
   "outputs": [
    {
     "name": "stdout",
     "output_type": "stream",
     "text": [
      "2024 is leap year\n",
      "2002 is not leap year\n"
     ]
    }
   ],
   "source": [
    "# 21)Write a Python program that checks if a given year is a leap year using a for loop.\n",
    "\n",
    "def check_leap(*enter_year):\n",
    "    for year  in enter_year:\n",
    "        if (year % 4 == 0 and year % 100 != 0) or (year % 400 == 0):\n",
    "            return f\"{year} is leap year\"\n",
    "        else:\n",
    "            return f\"{year} is not leap year\"\n",
    "\n",
    "print(check_leap(2024))\n",
    "print(check_leap(2002))"
   ]
  },
  {
   "cell_type": "code",
   "execution_count": 5,
   "id": "ab8f0285-9330-42c9-81b3-b734f7f40af4",
   "metadata": {},
   "outputs": [
    {
     "name": "stdout",
     "output_type": "stream",
     "text": [
      "The square root of 25 is approximately 5.0\n"
     ]
    }
   ],
   "source": [
    "# 22)Create a Python program that calculates the square root of a number using a for loop.\n",
    "\n",
    "\n",
    "def sqrt_for_loop(number, iterations=10):\n",
    "    if number < 0:\n",
    "        return \"Complex number (square root of a negative number)\"\n",
    "\n",
    "    guess = number / 2.0 \n",
    "\n",
    "    for _ in range(iterations):\n",
    "        guess = (guess + number / guess) / 2.0\n",
    "\n",
    "    return guess\n",
    "\n",
    "number = 25\n",
    "print(f\"The square root of {number} is approximately {sqrt_for_loop(number)}\")"
   ]
  },
  {
   "cell_type": "code",
   "execution_count": 8,
   "id": "11e8edb7-6114-44cf-bf63-f76177b549a5",
   "metadata": {},
   "outputs": [
    {
     "name": "stdout",
     "output_type": "stream",
     "text": [
      "The LCM of 12 and 15 is 60\n"
     ]
    }
   ],
   "source": [
    "## 23)Write a Python program to find the LCM (Least Common Multiple) of two numbers using a for loop.\n",
    "\n",
    "def lcm_for_loop(a, b):\n",
    "    if a > b:\n",
    "        greater = a\n",
    "    else:\n",
    "        greater = b\n",
    "\n",
    "    while True:\n",
    "        if greater % a == 0 and greater % b == 0:\n",
    "            lcm = greater\n",
    "            break\n",
    "        greater += 1\n",
    "\n",
    "    return lcm\n",
    "\n",
    "a = 12\n",
    "b = 15\n",
    "print(f\"The LCM of {a} and {b} is {lcm_for_loop(a, b)}\")"
   ]
  },
  {
   "cell_type": "code",
   "execution_count": null,
   "id": "b6cc24e2-45f7-4cd7-ade5-80764966bfd3",
   "metadata": {},
   "outputs": [],
   "source": []
  },
  {
   "cell_type": "markdown",
   "id": "e72c1e17-4140-44f6-9f8b-629e0afa98b2",
   "metadata": {},
   "source": [
    "# If else "
   ]
  },
  {
   "cell_type": "code",
   "execution_count": 9,
   "id": "65ec1b38-1000-4946-8c4d-b292ed1c3f69",
   "metadata": {},
   "outputs": [
    {
     "name": "stdin",
     "output_type": "stream",
     "text": [
      "enter a number  5\n"
     ]
    },
    {
     "name": "stdout",
     "output_type": "stream",
     "text": [
      "number is positive\n"
     ]
    }
   ],
   "source": [
    "# 1) Write a Python program to check if a number is positive, negative, or zero using an if-else statement.\n",
    "\n",
    "def posi_negative():\n",
    "    number=int(input(\"enter a number \"))\n",
    "    if number>0:\n",
    "        print(\"number is positive\")\n",
    "    elif number==0:\n",
    "        print(\"number is zero\")\n",
    "    else:\n",
    "        print(\"number is negative\")\n",
    "posi_negative()"
   ]
  },
  {
   "cell_type": "code",
   "execution_count": 10,
   "id": "1f18a5cb-1783-43dd-a104-ff298f90b12c",
   "metadata": {},
   "outputs": [
    {
     "name": "stdout",
     "output_type": "stream",
     "text": [
      "odd number\n",
      "even number\n"
     ]
    }
   ],
   "source": [
    "# 2) Create a Python program that checks if a given number is even or odd using an if-else statement.\n",
    "def number_check (numb):\n",
    "    if numb %2==0:\n",
    "        print (\"even number\")\n",
    "    else:\n",
    "        print(\"odd number\")\n",
    "number_check(1)\n",
    "number_check(2)"
   ]
  },
  {
   "cell_type": "markdown",
   "id": "83e875ea-2690-42dd-a3da-d6dcbe06d3a9",
   "metadata": {},
   "source": [
    "\n",
    "# 3) How can you use nested if-else statements in Python, and provide an example?\n",
    "\n",
    "syntax=>\n",
    "\n",
    "if condition1:\n",
    "    \n",
    "    # Code block for condition1 being true\n",
    "    if condition2:\n",
    "        \n",
    "        # Code block for condition2 being true\n",
    "    else:\n",
    "        \n",
    "        # Code block for condition2 being false\n",
    "else:\n",
    "\n",
    "    # Code block for condition1 being false\n",
    "\n",
    "\n",
    "    \n",
    "1)The outer if statement (condition1) is evaluated first.\n",
    "\n",
    "2)If condition1 is true, its corresponding code block executes. Inside this block, there's another if-else statement (condition2) which is evaluated.\n",
    "\n",
    "3)Depending on whether condition2 is true or false, the respective inner code block executes.\n",
    "\n",
    "4)If condition1 is false, the else block for condition1 executes.\n",
    "\n",
    "\n",
    "\n",
    "Example => \n",
    "\n",
    "Checking eligibility for voting based on age and citizenship\n",
    "\n",
    "age = 20\n",
    "\n",
    "citizen = True\n",
    "\n",
    "if age >= 18:\n",
    "    \n",
    "    if citizen:\n",
    "        \n",
    "        print(\"You are eligible to vote.\")\n",
    "        \n",
    "    else:\n",
    "        \n",
    "        print(\"You must be a citizen to vote.\")\n",
    "        \n",
    "else:\n",
    "    \n",
    "    print(\"You are not old enough to vote.\")\n",
    "    \n"
   ]
  },
  {
   "cell_type": "code",
   "execution_count": 12,
   "id": "ef513766-f470-4ada-a7ea-97336430bb4f",
   "metadata": {},
   "outputs": [
    {
     "name": "stdout",
     "output_type": "stream",
     "text": [
      "largest number is  30\n",
      "largest number is 20\n"
     ]
    }
   ],
   "source": [
    "# 4) Write a Python program to determine the largest of three numbers using if-else.\n",
    "\n",
    "def largest (num1,num2,num3):\n",
    "    if num1>=num2 and num1>=num3:\n",
    "        print(\"largest number is\",num1)\n",
    "    elif num2>=num1 and num2>=num3:\n",
    "        print(\"largest number is\",num2) \n",
    "    else:\n",
    "        print(\"largest number is \",num3)\n",
    "largest(10,20,30)\n",
    "largest(10,20,20)"
   ]
  },
  {
   "cell_type": "code",
   "execution_count": 13,
   "id": "a10d796e-0f53-4761-b6ec-0daf60bff245",
   "metadata": {},
   "outputs": [
    {
     "name": "stdout",
     "output_type": "stream",
     "text": [
      "5\n",
      "5\n"
     ]
    }
   ],
   "source": [
    "# 5) Write a Python program that calculates the absolute value of a number using if-else.\n",
    "def absolute(num):\n",
    "    if num>0:\n",
    "        print(num)\n",
    "    else:\n",
    "        print(-num)\n",
    "absolute(-5)\n",
    "absolute(5)"
   ]
  },
  {
   "cell_type": "code",
   "execution_count": 14,
   "id": "d195f1f6-1694-46ce-80e3-dec7abcd03ce",
   "metadata": {},
   "outputs": [
    {
     "name": "stdout",
     "output_type": "stream",
     "text": [
      "It is vowel\n",
      "It is consonant\n",
      "It is vowel\n"
     ]
    }
   ],
   "source": [
    "# 6) Create a Python program that checks if a given character is a vowel or consonant using if-else.\n",
    "\n",
    "def check_character (character):\n",
    "    if character in \"AEIOUaeiou\":\n",
    "        print(\"It is vowel\")\n",
    "    else:\n",
    "        print(\"It is consonant\")\n",
    "\n",
    "check_character(\"U\")\n",
    "check_character(\"s\")\n",
    "check_character(\"A\")"
   ]
  },
  {
   "cell_type": "code",
   "execution_count": 15,
   "id": "88de7519-ed13-49eb-a752-8648071fde7c",
   "metadata": {},
   "outputs": [
    {
     "name": "stdin",
     "output_type": "stream",
     "text": [
      "enter a age  19\n"
     ]
    },
    {
     "name": "stdout",
     "output_type": "stream",
     "text": [
      "the person is eligible for voting\n"
     ]
    }
   ],
   "source": [
    "# 7) Write a Python program to determine if a user is eligible to vote based on their age using if-else.\n",
    "\n",
    "def check_eligible():\n",
    "    age=int(input(\"enter a age \"))\n",
    "    if age>=18:\n",
    "        print(\"the person is eligible for voting\")\n",
    "    else:\n",
    "        print(\"the person is not eligible for voting\")\n",
    "check_eligible()"
   ]
  },
  {
   "cell_type": "code",
   "execution_count": null,
   "id": "07059d43-561b-4d32-9adb-c54b7894b904",
   "metadata": {},
   "outputs": [
    {
     "name": "stdout",
     "output_type": "stream",
     "text": [
      "Discounted Price: 900.0\n",
      "Discounted Price: 760.0\n",
      "Discounted Price: 39.2\n",
      "Discounted Price: 392.0\n"
     ]
    }
   ],
   "source": [
    "# 8) Create a Python program that calculates the discount amount based on the purchase amount using if-else.\n",
    "\n",
    "def calculate_discount(price):\n",
    "    if price >= 1000:\n",
    "        discount = 0.10\n",
    "    elif price >= 500:\n",
    "        discount = 0.05\n",
    "    else:\n",
    "        discount = 0.02\n",
    "\n",
    "    discounted_price = price * (1 - discount)\n",
    "    return discounted_price\n",
    "\n",
    "print(f\"Discounted Price: {calculate_discount(1000)}\")\n",
    "print(f\"Discounted Price: {calculate_discount(800)}\")\n",
    "print(f\"Discounted Price: {calculate_discount(40)}\")\n",
    "print(f\"Discounted Price: {calculate_discount(400)}\")"
   ]
  },
  {
   "cell_type": "code",
   "execution_count": 17,
   "id": "8232ef54-1a51-47ba-be08-62643cbc26b5",
   "metadata": {},
   "outputs": [
    {
     "name": "stdin",
     "output_type": "stream",
     "text": [
      "enter the number =>  50\n",
      "enter the starting limit range =>   20\n",
      "enter the ending limit range =>  80\n"
     ]
    },
    {
     "name": "stdout",
     "output_type": "stream",
     "text": [
      "number is within a specified range\n"
     ]
    }
   ],
   "source": [
    "# 9) Write a Python program to check if a number is within a specified range using if-else.\n",
    "\n",
    "def limit_range():\n",
    "    \n",
    "    number=int(input(\"enter the number => \"))\n",
    "    start_range=int(input(\"enter the starting limit range =>  \"))\n",
    "    end_range=int(input(\"enter the ending limit range => \"))\n",
    "    if start_range <= number <= end_range:\n",
    "        print(\"number is within a specified range\")\n",
    "    else:\n",
    "        print(\"number is not within a specified range\")\n",
    "\n",
    "limit_range()"
   ]
  },
  {
   "cell_type": "code",
   "execution_count": 18,
   "id": "445b7475-c413-495c-8fb1-4afaab06a07d",
   "metadata": {},
   "outputs": [
    {
     "name": "stdout",
     "output_type": "stream",
     "text": [
      "grade-A\n",
      "grade-Fail\n",
      "grade-B\n",
      "grade-C\n"
     ]
    }
   ],
   "source": [
    "# 10) Create a Python program that determines the grade of a student based on their score using if-else.\n",
    "\n",
    "def check_grade(score):\n",
    "    if score>=90:\n",
    "        print(\"grade-A\")\n",
    "    elif score>=80:\n",
    "        print(\"grade-B\")    \n",
    "    elif score>=65:\n",
    "        print(\"grade-C\")    \n",
    "    elif score>=50:\n",
    "        print(\"grade-D\")\n",
    "    else:\n",
    "        print(\"grade-Fail\")\n",
    "check_grade(92)\n",
    "check_grade(42)\n",
    "check_grade(85)\n",
    "check_grade(70)"
   ]
  },
  {
   "cell_type": "code",
   "execution_count": 19,
   "id": "95745dc2-c7db-4d2b-aa80-f79f0f230814",
   "metadata": {},
   "outputs": [
    {
     "name": "stdin",
     "output_type": "stream",
     "text": [
      "enter the string   str\n"
     ]
    },
    {
     "name": "stdout",
     "output_type": "stream",
     "text": [
      "string is not empty\n"
     ]
    }
   ],
   "source": [
    "# 11) Write a Python program to check if a string is empty or not using if-else.\n",
    "\n",
    "def check_empty():\n",
    "    string=input(\"enter the string  \")\n",
    "    if len(string)> 0:\n",
    "        print(\"string is not empty\")\n",
    "    else:\n",
    "        print(\"string is empty\")\n",
    "\n",
    "check_empty()\n",
    "    "
   ]
  },
  {
   "cell_type": "code",
   "execution_count": 20,
   "id": "f267667e-c36c-4cfa-bbb1-9eb411cc9124",
   "metadata": {},
   "outputs": [
    {
     "name": "stdout",
     "output_type": "stream",
     "text": [
      "equilateral traingle\n",
      "isoscles  traingle\n",
      "isosceles traingle\n",
      "isosceles traingle\n",
      "scalene trainlgle\n"
     ]
    }
   ],
   "source": [
    "# 12) Create a Python program that identifies the type of a triangle (e.g., equilateral, isosceles, or scalene) based on input values using if-else.\n",
    "\n",
    "def traingle(side1,side2,side3):\n",
    "    if side1==side2:\n",
    "        if side1==side3:\n",
    "            print(\"equilateral traingle\")\n",
    "        else:\n",
    "            print(\"isoscles  traingle\")\n",
    "            \n",
    "    else:\n",
    "        if side2==side3:\n",
    "            print(\"isosceles traingle\")\n",
    "        elif side1==side3:\n",
    "            print(\"isosceles traingle\")\n",
    "        else:\n",
    "            print(\"scalene trainlgle\")\n",
    "traingle(30,30,30)\n",
    "traingle(10,10,20)\n",
    "traingle(40,30,30)\n",
    "traingle(40,30,40)\n",
    "traingle(10,20,30)"
   ]
  },
  {
   "cell_type": "code",
   "execution_count": 21,
   "id": "d77c900d-83b1-4a10-9174-61fd3b864a44",
   "metadata": {},
   "outputs": [
    {
     "name": "stdout",
     "output_type": "stream",
     "text": [
      "The day is: Wednesday\n",
      "The day is: Friday\n",
      "The day is: Saturday\n",
      "The day is: Invalid day number\n"
     ]
    }
   ],
   "source": [
    "# 13) Write a Python program to determine the day of the week based on a user-provided number using if-else.\n",
    "\n",
    "\n",
    "def day_of_week(day_num):\n",
    "    days = [\"Monday\", \"Tuesday\", \"Wednesday\", \"Thursday\", \"Friday\", \"Saturday\", \"Sunday\"]\n",
    "    if 1 <= day_num <= 7:\n",
    "        return days[day_num - 1]\n",
    "    else:\n",
    "        return \"Invalid day number\"\n",
    "\n",
    "\n",
    "print(\"The day is:\", day_of_week(3))\n",
    "print(\"The day is:\", day_of_week(5))\n",
    "print(\"The day is:\", day_of_week(6))\n",
    "print(\"The day is:\", day_of_week(0))"
   ]
  },
  {
   "cell_type": "code",
   "execution_count": 22,
   "id": "0b3f34ab-3107-46ad-a93e-300b3b4fb41e",
   "metadata": {},
   "outputs": [
    {
     "name": "stdout",
     "output_type": "stream",
     "text": [
      "leap year\n",
      "common year\n"
     ]
    }
   ],
   "source": [
    "# 14) Create a Python program that checks if a given year is a leap year using both if-else and a function.\n",
    "\n",
    "def check_leapyear(year):\n",
    "    if (year % 4 == 0 and year % 100 != 0) or (year % 400 == 0):\n",
    "        print(\"leap year\")\n",
    "    else:\n",
    "        print(\"common year\")\n",
    "check_leapyear(2000)\n",
    "check_leapyear(2001)"
   ]
  },
  {
   "cell_type": "markdown",
   "id": "6478d78a-ab49-48c5-9fd8-a3f432909204",
   "metadata": {},
   "source": [
    "# 15) How do you use the \"assert\" statement in Python to add debugging checks within if-else blocks? -->\n",
    "\n",
    "assert statement within if-else blocks to check for conditions that should always be true at specific points in your code. \n",
    "\n",
    "If the condition is false, an AssertionError is raised, halting the program and alerting you to the issue.\n",
    "\n",
    "\n",
    "Here's an example:\n",
    "\n",
    "\n",
    "def calculate_discount(price, discount_percentage):\n",
    "\n",
    "    if discount_percentage < 0 or discount_percentage > 100:\n",
    "\n",
    "        raise ValueError(\"Discount percentage must be between 0 and 100\")\n",
    "\n",
    "\n",
    "    discounted_price = price * (1 - discount_percentage / 100)\n",
    "\n",
    "\n",
    "    # Assert that the discounted price is less than or equal to the original price\n",
    "\n",
    "    assert discounted_price <= price, \"Discounted price should not exceed original price\"\n",
    "\n",
    "\n",
    "    return discounted_price\n",
    "\n",
    "\n",
    "print(calculate_discount(100, 20))\n",
    "\n",
    "\n",
    "\n",
    "In this example, we're calculating a discounted price. \n",
    "\n",
    "After the calculation, we use an assert statement to ensure that the discounted price is not greater than the original price. \n",
    "\n",
    "If it is, the program will raise an AssertionError.\n",
    "\n",
    "\n",
    "\n",
    "Key points to remember:\n",
    "\n",
    "1)Assertions are meant for debugging and should not be used for handling runtime errors.\n",
    "\n",
    "2)Assertions can be disabled globally in Python by running the interpreter with the -O flag.\n",
    "\n",
    "3)Use assertions to check for conditions that should never happen in your code.\n",
    "\n",
    "4)Provide meaningful error messages with your assertions to help with debugging\n"
   ]
  },
  {
   "cell_type": "code",
   "execution_count": 23,
   "id": "365b3dc2-8e77-40f8-8720-03e4e12b42d3",
   "metadata": {},
   "outputs": [
    {
     "name": "stdin",
     "output_type": "stream",
     "text": [
      "Enter your age:  20\n"
     ]
    },
    {
     "name": "stdout",
     "output_type": "stream",
     "text": [
      "You are not eligible for a senior citizen discount.\n"
     ]
    },
    {
     "name": "stdin",
     "output_type": "stream",
     "text": [
      "Enter your age:  68\n"
     ]
    },
    {
     "name": "stdout",
     "output_type": "stream",
     "text": [
      "You are eligible for a senior citizen discount.\n"
     ]
    }
   ],
   "source": [
    "# 16) Create a Python program that determines the eligibility of a person for a senior citizen discount based on age using if-else.\n",
    "\n",
    "def check_senior_citizen():\n",
    "    age = int(input(\"Enter your age: \"))\n",
    "\n",
    "    if age >= 65:\n",
    "        print(\"You are eligible for a senior citizen discount.\")\n",
    "    else:\n",
    "        print(\"You are not eligible for a senior citizen discount.\")\n",
    "\n",
    "check_senior_citizen()\n",
    "check_senior_citizen()"
   ]
  },
  {
   "cell_type": "code",
   "execution_count": 25,
   "id": "22b1454e-367c-4fa2-b3f6-f656f1b2e12d",
   "metadata": {},
   "outputs": [
    {
     "name": "stdin",
     "output_type": "stream",
     "text": [
      "enter the character =>  a\n"
     ]
    },
    {
     "name": "stdout",
     "output_type": "stream",
     "text": [
      "character is lowercase\n"
     ]
    }
   ],
   "source": [
    "# 17) Write a Python program to categorize a given character as uppercase, lowercase, or neither using if-else.\n",
    "\n",
    "def check_char():\n",
    "    char=input(\"enter the character => \")\n",
    "    category=''\n",
    "    if char.isupper():\n",
    "        print(\"character is uppercase\")\n",
    "    elif char.islower():\n",
    "        print(\"character is lowercase\")\n",
    "    else:\n",
    "        print(\"character is neither lowercase or uppercase\")\n",
    "\n",
    "check_char()"
   ]
  },
  {
   "cell_type": "code",
   "execution_count": 26,
   "id": "48f82291-4463-4f49-aac0-22add7fef0c2",
   "metadata": {},
   "outputs": [
    {
     "name": "stdin",
     "output_type": "stream",
     "text": [
      "Enter coefficient a:  5\n",
      "Enter coefficient b:  6\n",
      "Enter coefficient c:  10\n"
     ]
    },
    {
     "name": "stdout",
     "output_type": "stream",
     "text": [
      "The roots are: (-0.6-1.2806248474865698j) and (-0.6+1.2806248474865698j)\n"
     ]
    }
   ],
   "source": [
    "# 18) Write a Python program to determine the roots of a quadratic equation using if-else.\n",
    "\n",
    "import cmath\n",
    "\n",
    "def quadratic_roots(a, b, c):\n",
    "    d = (b**2) - (4*a*c)\n",
    "    root1 = (-b - cmath.sqrt(d)) / (2*a)\n",
    "    root2 = (-b + cmath.sqrt(d)) / (2*a)\n",
    "    return (root1, root2)\n",
    "\n",
    "a = float(input(\"Enter coefficient a: \"))\n",
    "b = float(input(\"Enter coefficient b: \"))\n",
    "c = float(input(\"Enter coefficient c: \"))\n",
    "roots = quadratic_roots(a, b, c)\n",
    "print(f\"The roots are: {roots[0]} and {roots[1]}\")"
   ]
  },
  {
   "cell_type": "code",
   "execution_count": 30,
   "id": "f606406b-c32a-4941-8fd3-8d3d2ef2498a",
   "metadata": {},
   "outputs": [
    {
     "name": "stdin",
     "output_type": "stream",
     "text": [
      "enter the year   2000\n"
     ]
    },
    {
     "name": "stdout",
     "output_type": "stream",
     "text": [
      "century year\n"
     ]
    },
    {
     "name": "stdin",
     "output_type": "stream",
     "text": [
      "enter the year   2024\n"
     ]
    },
    {
     "name": "stdout",
     "output_type": "stream",
     "text": [
      "not an century year\n"
     ]
    }
   ],
   "source": [
    " \n",
    "# 19) Create a Python program that checks if a given year is a century year or not using if-else.\n",
    "\n",
    "def check_century_year():\n",
    "    year=int(input(\"enter the year  \"))\n",
    "    if year%100==0:\n",
    "        print(\"century year\")\n",
    "    else:\n",
    "        print(\"not an century year\")\n",
    "\n",
    "check_century_year()\n",
    "check_century_year()"
   ]
  },
  {
   "cell_type": "code",
   "execution_count": 32,
   "id": "ee3b5d0b-f804-418e-b441-615913e5c71d",
   "metadata": {},
   "outputs": [
    {
     "name": "stdin",
     "output_type": "stream",
     "text": [
      "Enter a number:  64\n"
     ]
    },
    {
     "name": "stdout",
     "output_type": "stream",
     "text": [
      "64 is a perfect square.\n"
     ]
    }
   ],
   "source": [
    "# 20) Write a Python program to determine if a given number is a perfect square using if-else.\n",
    "\n",
    "\n",
    "import math\n",
    "def check_perfect_square():\n",
    "    num = int(input(\"Enter a number: \"))\n",
    "\n",
    "    if math.isqrt(num)**2 == num:\n",
    "        print(f\"{num} is a perfect square.\")\n",
    "    else:\n",
    "        print(f\"{num} is not a perfect square.\")\n",
    "\n",
    "\n",
    "check_perfect_square()"
   ]
  },
  {
   "cell_type": "markdown",
   "id": "b522c75b-3a22-4645-bab3-3600851cf90e",
   "metadata": {},
   "source": [
    "# 21) Explain the purpose of the \"continue\" and \"break\" statements within if-else loops.\n",
    "\n",
    "continue statement: Used in loops (like for or while) to skip the rest of the current iteration and proceed to the next one.\n",
    "\n",
    "Break statement: Also used in loops to immediately exit the loop, skipping any remaining iterations.\n",
    "\n",
    "In if-else statements within loops, these statements help control flow based on conditions, allowing more specific handling of iterations.\n"
   ]
  },
  {
   "cell_type": "code",
   "execution_count": 34,
   "id": "95027d34-37a3-4813-9346-efe91a617da4",
   "metadata": {},
   "outputs": [
    {
     "name": "stdin",
     "output_type": "stream",
     "text": [
      "Enter your weight in kg:  55\n",
      "Enter your height in meters:  1.5\n"
     ]
    },
    {
     "name": "stdout",
     "output_type": "stream",
     "text": [
      "Your BMI is 24.444444444444443 and you are classified as Normal weight\n"
     ]
    }
   ],
   "source": [
    "# 22) Create a Python program that calculates the BMI (Body Mass Index) of a person based on their weight and height using if-else.\n",
    "\n",
    "def check_bmi():\n",
    "    weight = float(input(\"Enter your weight in kg: \"))\n",
    "    height = float(input(\"Enter your height in meters: \"))\n",
    "\n",
    "    bmi = weight / (height**2)\n",
    "\n",
    "    if bmi < 18.5:\n",
    "        category = \"Underweight\"\n",
    "    elif 18.5 <= bmi < 24.9:\n",
    "        category = \"Normal weight\"\n",
    "    elif 25 <= bmi < 29.9:\n",
    "        category = \"Overweight\"\n",
    "    else:\n",
    "        category = \"Obese\"\n",
    "\n",
    "    print(\"Your BMI is\", bmi, \"and you are classified as\", category)\n",
    "\n",
    "\n",
    "check_bmi()"
   ]
  },
  {
   "cell_type": "markdown",
   "id": "dceb4772-f2fe-4c8e-9335-5638ee51b619",
   "metadata": {},
   "source": [
    "# 23) How can you use the \"filter()\" function with if-else statements to filter elements from a list?\n",
    "\n",
    "To use the filter() function with if-else logic to filter elements from a list in Python, you typically don't use if-else directly within filter().\n",
    "\n",
    " Instead, you use a lambda function that returns True or False based on your filtering condition.\n",
    "    \n",
    "\n",
    " Here's a concise way to do it:\n",
    "\n",
    "\n",
    "\n",
    " \n",
    "\n",
    "my_list = [1, 2, 3, 4, 5, 6, 7, 8, 9, 10]  # Example list\n",
    "\n",
    "\n",
    "\n",
    "filtered_list = list(filter(lambda x: x % 2 == 0, my_list)) # Using filter() with lambda and if-else logic\n",
    "\n",
    "\n",
    " \n",
    "\n",
    "\n",
    "print(filtered_list) # Print the filtered list\n",
    "\n",
    "\n",
    "In this example:\n",
    "    \n",
    "\n",
    "1)lambda x: x % 2 == 0 is the lambda function that checks if the element x is even (x % 2 == 0). This returns True for even numbers and False for odd numbers.\n",
    "\n",
    "2)filter(lambda x: x % 2 == 0, my_list) applies this lambda function to each element in my_list, keeping only those elements for which the lambda function returns True.\n",
    "\n",
    "3)list() is used to convert the filter object to a list, containing only the elements that passed the filter condition.\n",
    "\n",
    "\n",
    "This way, you effectively filter elements from my_list based on the specified condition (x % 2 == 0 in this case).\n",
    "\n",
    " Adjust the lambda function condition (x % 2 == 0) to change the filtering criterion as needed.\n",
    "    "
   ]
  },
  {
   "cell_type": "code",
   "execution_count": 39,
   "id": "8a5658ae-20fb-403a-82fb-477059e844d9",
   "metadata": {},
   "outputs": [
    {
     "name": "stdout",
     "output_type": "stream",
     "text": [
      "11 is a prime number.\n"
     ]
    }
   ],
   "source": [
    "# 24) Write a Python program to determine if a given number is prime or not using if-else.\n",
    "\n",
    "\n",
    "def is_prime(number):\n",
    "    if number > 1:\n",
    "        if number == 2:\n",
    "            return True\n",
    "        else:\n",
    "            for i in range(2, int(number**0.5) + 1):\n",
    "                if number % i == 0:\n",
    "                    return False\n",
    "            return True\n",
    "    else:\n",
    "        return False\n",
    "    \n",
    "num = 11 \n",
    "if is_prime(num):\n",
    "    print(f\"{num} is a prime number.\")\n",
    "else:\n",
    "    print(f\"{num} is not a prime number.\")\n",
    "    "
   ]
  },
  {
   "cell_type": "code",
   "execution_count": null,
   "id": "444a3d3d-6362-49c0-912a-8650b2d9bbda",
   "metadata": {},
   "outputs": [],
   "source": []
  },
  {
   "cell_type": "markdown",
   "id": "ed565548-ab96-4964-b575-e8b7d88e2ecc",
   "metadata": {},
   "source": [
    "# Map :-"
   ]
  },
  {
   "cell_type": "code",
   "execution_count": null,
   "id": "6522fe4c-7ffa-4f59-a05e-4a56bdec6081",
   "metadata": {},
   "outputs": [],
   "source": []
  },
  {
   "cell_type": "markdown",
   "id": "8d542413-68ce-4c8b-9c35-5679f9f536fe",
   "metadata": {},
   "source": [
    "# 1) Explain the purpose of the `map()` function in Python and provide an example of how it can be used to apply a function to each element of an iterable.\n",
    "\n",
    "The map() function in Python is used to apply a specified function to each item in an iterable (like a list, tuple, etc.) and returns an iterator that yields the results.\n",
    "\n",
    "\n",
    "\n",
    "Here's a concise explanation and an example:\n",
    "\n",
    "\n",
    "Purpose of map() function:\n",
    "\n",
    "1)Apply Function: map() allows you to apply a function to every item in an iterable, such as a list.\n",
    "\n",
    "2)Efficiency: It's more memory-efficient than using a for loop for simple transformation tasks.\n",
    "\n",
    "3)Lazy Evaluation: map() returns an iterator, so it computes each value only when you request it, which can be more efficient for large datasets.\n",
    "\n",
    "\n",
    "Example:\n",
    "\n",
    "\n",
    "\n",
    "\n",
    "def square(x):\n",
    "\n",
    "    return x ** 2\n",
    "\n",
    "\n",
    "\n",
    "my_list = [1, 2, 3, 4, 5] # Example list\n",
    "\n",
    "\n",
    "\n",
    "\n",
    "result = map(square, my_list) # Using map() to square each element in the list\n",
    "\n",
    "\n",
    "\n",
    "\n",
    "result_list = list(result) # Convert the result to a list (if needed)\n",
    "\n",
    "\n",
    "\n",
    "\n",
    "print(result_list) # Print the result\n",
    "\n",
    "\n",
    "\n",
    "\n",
    "Explanation of the example:\n",
    "\n",
    "1)Define the function square(x): This function takes a single argument x and returns its square (x ** 2).\n",
    "\n",
    "2)Create a list my_list This list contains integers [1, 2, 3, 4, 5].\n",
    "\n",
    "3)Apply map() function: map(square, my_list) applies the square function to each element of my_list. It returns an iterator (result) that yields [1, 4, 9, 16, 25], which are the squares of [1, 2, 3, 4, 5].\n",
    "\n",
    "4)Convert iterator to list: Use list(result) to convert the iterator result to a list (result_list).\n",
    "\n",
    "5)Print the result: Finally, print(result_list) outputs [1, 4, 9, 16, 25], which are the squared values of the original list elements.\n",
    "\n"
   ]
  },
  {
   "cell_type": "code",
   "execution_count": 36,
   "id": "de9ccffe-b9c8-41d1-b268-6739c29d9277",
   "metadata": {},
   "outputs": [
    {
     "name": "stdout",
     "output_type": "stream",
     "text": [
      "[1, 4, 9, 16, 25]\n"
     ]
    }
   ],
   "source": [
    "# 2 ) Write a Python program that uses the `map()` function to square each element of a list of numbers.\n",
    "\n",
    "sq_list=[1,2,3,4,5]\n",
    "print(list(map(lambda sq_list:sq_list**2,sq_list)))"
   ]
  },
  {
   "cell_type": "markdown",
   "id": "509f536b-1483-4051-b0e3-fcbc7c34d9c8",
   "metadata": {},
   "source": [
    "\n",
    "# 3) How does the `map()` function differ from a list comprehension in Python, and when would you choose one over the other?\n",
    "\n",
    "\n",
    "map() Function: Applies a function to each item in an iterable. Use it for clarity when using a predefined function.\n",
    "\n",
    "List Comprehension: Creates a new list by applying an expression to each item. Use it for more readability and when including conditions.\n",
    "\n",
    "\n",
    "Choose map() for functional-style transformations with existing functions. Choose list comprehensions for readability and complex transformations with conditions.\n",
    "\n",
    "\n"
   ]
  },
  {
   "cell_type": "code",
   "execution_count": 4,
   "id": "e8817615-4cf4-4f53-bc70-ea75f2f0025b",
   "metadata": {},
   "outputs": [
    {
     "name": "stdout",
     "output_type": "stream",
     "text": [
      "['ADITYA', 'AKSHAY', 'SAGAR', 'KHUSHAL', 'TEJAS']\n"
     ]
    }
   ],
   "source": [
    "# 4. Create a Python program that uses the `map()` function to convert a list of names to uppercase\n",
    "names_list=[\"aditya\",\"akshay\",\"sagar\",\"khushal\",\"tejas\"]\n",
    "print(list(map(lambda names_list:names_list.upper(),names_list)))"
   ]
  },
  {
   "cell_type": "code",
   "execution_count": 9,
   "id": "af963802-3621-4678-a5af-0d41d6f2896c",
   "metadata": {},
   "outputs": [
    {
     "name": "stdout",
     "output_type": "stream",
     "text": [
      "[3, 5, 7]\n"
     ]
    }
   ],
   "source": [
    "# 5. Write a Python program that uses the `map()` function to calculate the length of each word in a list of strings\n",
    "\n",
    "\n",
    "string_list=[\"hii\",\"hello\",\"namaste\"]\n",
    "\n",
    "print(list( map(len, string_list)))\n",
    "\n"
   ]
  },
  {
   "cell_type": "markdown",
   "id": "0eacf89d-ac55-436f-924f-ba0706e7e877",
   "metadata": {},
   "source": [
    " # 6. How can you use the `map()` function to apply a custom function to elements of multiple lists simultaneously in Python?\n",
    "\n",
    "    \n",
    "Define the custom function that takes as many arguments as there are lists.\n",
    "\n",
    "Use map() with the custom function and the lists as arguments.\n"
   ]
  },
  {
   "cell_type": "code",
   "execution_count": 2,
   "id": "c76ef9f9-9ab1-4148-b8a6-030e01b0a805",
   "metadata": {},
   "outputs": [
    {
     "name": "stdout",
     "output_type": "stream",
     "text": [
      "[32.0, 68.0, 98.6, 212.0]\n"
     ]
    }
   ],
   "source": [
    "# 7. Create a Python program that uses `map()` to convert a list of temperatures from Celsius to Fahrenheit.\n",
    "\n",
    "celcius_list=[0,20,37,100]\n",
    "print(list(map(lambda celcius: (celcius * 9/5) +32 , celcius_list)))\n"
   ]
  },
  {
   "cell_type": "code",
   "execution_count": 6,
   "id": "c2af9572-63cd-4d79-af8e-b75eba7fb6a8",
   "metadata": {},
   "outputs": [
    {
     "name": "stdout",
     "output_type": "stream",
     "text": [
      "[1, 2, 4, 4, 6]\n"
     ]
    }
   ],
   "source": [
    "# 8. Write a Python program that uses the `map()` function to round each element of a list of floating-point numbers to the nearest integer.\n",
    "\n",
    "rounded_numbers=[1.2,2.5,3.7,4.4,5.9]\n",
    "print(list(map(round,rounded_numbers)))\n"
   ]
  },
  {
   "cell_type": "code",
   "execution_count": null,
   "id": "774cb526-3cf1-417f-a12d-f1c30a2deafb",
   "metadata": {},
   "outputs": [],
   "source": []
  },
  {
   "cell_type": "markdown",
   "id": "cf9f72ca-2cbe-40cf-8084-a4a3e7a80d0a",
   "metadata": {},
   "source": [
    "# Reduce :-"
   ]
  },
  {
   "cell_type": "code",
   "execution_count": null,
   "id": "3c1a3126-0ee6-4034-9b4c-b09df63a3e58",
   "metadata": {},
   "outputs": [],
   "source": []
  },
  {
   "cell_type": "markdown",
   "id": "09dab32b-f9a4-46e8-ad60-fa602a115c94",
   "metadata": {},
   "source": [
    "# 1. What is the `reduce()` function in Python, and what module should you import to use it? Provide an example of its basic usage.\n",
    "\n",
    "\n",
    "The reduce() function in Python is used to apply a binary function cumulatively to the items of an iterable, from left to right, so as to reduce the iterable to a single value. Essentially, it performs a rolling computation to combine elements of an iterable\n",
    "\n",
    "module => from functools import reduce\n",
    "\n",
    "example =>\n",
    "\n",
    "from functools import reduce\n",
    "\n",
    "\n",
    "def add(x, y):\n",
    "\n",
    "    return x + y\n",
    "    \n",
    "\n",
    "numbers = [1, 2, 3, 4, 5]\n",
    "\n",
    "result = reduce(add, numbers)\n",
    "\n",
    "print(result)  # Output will be 15\n",
    "\n",
    "\n",
    "In this example:\n",
    "\n",
    "\n",
    " 1)add is a binary function that takes two arguments and returns their sum.\n",
    "\n",
    " 2)reduce(add, numbers) applies the add function to the elements of the list numbers. It first computes add(1, 2), then uses the result to compute add(3, result), and so on, until the end of the list is reached.\n",
    "\n",
    " 3)The final result is the sum of all elements in the list, which is 15.\n",
    "\n",
    "\n"
   ]
  },
  {
   "cell_type": "code",
   "execution_count": 17,
   "id": "9ff11489-ae88-412c-9ee8-3fba4a4fd1a0",
   "metadata": {},
   "outputs": [
    {
     "name": "stdout",
     "output_type": "stream",
     "text": [
      "120\n"
     ]
    }
   ],
   "source": [
    "# 2. Write a Python program that uses the `reduce()` function to find the product of all elements in a list.\n",
    "\n",
    "from functools import reduce\n",
    "product_list=[1,2,3,4,5]\n",
    "print(reduce(lambda a,b:a*b,product_list))\n",
    "\n"
   ]
  },
  {
   "cell_type": "code",
   "execution_count": 18,
   "id": "1631caca-79b6-4ae3-812a-6bc6a8e4cc8d",
   "metadata": {},
   "outputs": [
    {
     "name": "stdout",
     "output_type": "stream",
     "text": [
      "50\n"
     ]
    }
   ],
   "source": [
    "# 3. Create a Python program that uses `reduce()` to find the maximum element in a list of numbers.\n",
    "\n",
    "from functools import reduce\n",
    "maximum_list=[10,5,20,50,26,46,35]\n",
    "print(reduce(lambda a,b:a if a>b else b,maximum_list))"
   ]
  },
  {
   "cell_type": "markdown",
   "id": "48dbffdf-0828-4667-b90e-c3b94e22b241",
   "metadata": {},
   "source": [
    "# 4. How can you use the `reduce()` function to concatenate a list of strings into a single string?\n",
    "\n",
    "Import reduce from functools.\n",
    "\n",
    "Use reduce() with a lambda function that concatenates two strings.\n",
    "\n"
   ]
  },
  {
   "cell_type": "code",
   "execution_count": 19,
   "id": "5b654a2a-4633-46d8-8c53-e99fe6c0d515",
   "metadata": {},
   "outputs": [
    {
     "name": "stdout",
     "output_type": "stream",
     "text": [
      "720\n"
     ]
    }
   ],
   "source": [
    "# 5. Write a Python program that calculates the factorial of a number using the `reduce()` function.\n",
    "from functools import reduce\n",
    "n=6\n",
    "print(reduce(lambda a,b:a*b,range(1,n+1)))"
   ]
  },
  {
   "cell_type": "code",
   "execution_count": 20,
   "id": "5240ede7-2c51-464b-9ec7-b17460642c36",
   "metadata": {},
   "outputs": [
    {
     "name": "stdout",
     "output_type": "stream",
     "text": [
      "120\n"
     ]
    }
   ],
   "source": [
    "# 6. Create a Python program that uses `reduce()` to find the GCD (Greatest Common Divisor) of a list of numbers.\n",
    "\n",
    "from functools import reduce\n",
    "list_gcd=[48, 180, 120]\n",
    "\n",
    "print(reduce(lambda x, y: x if y == 0 else reduce(lambda a, b: a if b == 0 else (a % b, b)[1], [x, y]), list_gcd))\n"
   ]
  },
  {
   "cell_type": "code",
   "execution_count": 21,
   "id": "46c72414-3ea6-4817-b3f0-8e80cd8e1ae5",
   "metadata": {},
   "outputs": [
    {
     "name": "stdout",
     "output_type": "stream",
     "text": [
      "15\n"
     ]
    }
   ],
   "source": [
    "# 7. Write a Python program that uses the `reduce()` function to find the sum of the digits of a given number.\n",
    "\n",
    "from functools import reduce\n",
    "\n",
    "print(reduce(lambda x, y: x + y, map(int, str(12345))))"
   ]
  },
  {
   "cell_type": "code",
   "execution_count": null,
   "id": "0df5fc1e-d33a-46df-aa83-b530fd04a18f",
   "metadata": {},
   "outputs": [],
   "source": []
  },
  {
   "cell_type": "markdown",
   "id": "e41d9a0e-b741-4761-ada6-81250d6f7d9f",
   "metadata": {},
   "source": [
    "# Filter "
   ]
  },
  {
   "cell_type": "code",
   "execution_count": null,
   "id": "32b4b49d-08f2-4fb7-8e87-5648f9b20908",
   "metadata": {},
   "outputs": [],
   "source": []
  },
  {
   "cell_type": "markdown",
   "id": "e106ad07-f534-40c7-b689-972d23a30757",
   "metadata": {},
   "source": [
    "# 1. Explain the purpose of the `filter()` function in Python and provide an example of how it can be used to filter elements from an iterable.\n",
    "\n",
    "Purpose:\n",
    "\n",
    "    \n",
    "To selectively include elements from an iterable that satisfy a specific condition.\n",
    "\n",
    "\n",
    "\n",
    "Example:\n",
    "    \n",
    "Filter out even numbers from a list:\n",
    "\n",
    "\n",
    "def is_even(n):  #Define a function that checks if a number is even\n",
    "    \n",
    "    return n % 2 == 0\n",
    "\n",
    "\n",
    "\n",
    "\n",
    "numbers = [1, 2, 3, 4, 5, 6]              # List of numbers\n",
    "\n",
    "\n",
    "\n",
    "even_numbers = filter(is_even, numbers)          # Use filter() to keep only even numbers\n",
    "\n",
    "\n",
    "\n",
    "print(list(even_numbers))            # Output: [2, 4, 6]\n"
   ]
  },
  {
   "cell_type": "code",
   "execution_count": 33,
   "id": "010a7069-4cc3-4af2-8850-edf3db0bc554",
   "metadata": {},
   "outputs": [
    {
     "name": "stdout",
     "output_type": "stream",
     "text": [
      "[2, 4, 6]\n"
     ]
    }
   ],
   "source": [
    "# 2. Write a Python program that uses the `filter()` function to select even numbers from a list of integers.\n",
    "\n",
    "integer_list=[1,2,3,4,5,6]\n",
    "print(list(filter(lambda a:a%2==0 ,integer_list)))"
   ]
  },
  {
   "cell_type": "code",
   "execution_count": 34,
   "id": "47137923-aa3c-443d-8dc2-f8ec03300855",
   "metadata": {},
   "outputs": [
    {
     "name": "stdout",
     "output_type": "stream",
     "text": [
      "['aditya', 'akshay']\n"
     ]
    }
   ],
   "source": [
    "# 3. Create a Python program that uses the `filter()` function to select names that start with a specific letter from a list of strings.\n",
    "\n",
    "list_string =[\"aditya\",\"sagar\",\"khushal\",\"akshay\",\"tejas\"]\n",
    "print(list(filter(lambda a:a[0]==\"a\",list_string)))"
   ]
  },
  {
   "cell_type": "code",
   "execution_count": 35,
   "id": "85f5ccaa-b211-48ea-9ec6-b6f722dfc02e",
   "metadata": {},
   "outputs": [
    {
     "name": "stdout",
     "output_type": "stream",
     "text": [
      "[7, 3, 11, 13]\n"
     ]
    }
   ],
   "source": [
    "# 4. Write a Python program that uses the `filter()` function to select prime numbers from a list of integers.\n",
    "prime_list=[10, 7, 3, 4, 6, 11, 13]\n",
    "print(list(filter(lambda x: x > 1 and all(x % i != 0 for i in range(2, int(x**0.5) + 1)), prime_list)))"
   ]
  },
  {
   "cell_type": "markdown",
   "id": "46bd5f61-1e46-4c00-9e50-52622ed538a4",
   "metadata": {},
   "source": [
    "# 5. How can you use the filter() function to remove None values from a list in Python?\n",
    "\n",
    "\n",
    "To remove None values from a list using filter(), use the function with a lambda that checks for non-None values.\n",
    "The lambda function lambda x: x is not None is used to filter out None values.\n"
   ]
  },
  {
   "cell_type": "code",
   "execution_count": 36,
   "id": "6432e51e-ede6-4673-b38e-9d5284562e83",
   "metadata": {},
   "outputs": [
    {
     "name": "stdout",
     "output_type": "stream",
     "text": [
      "['aditya', 'sagar', 'khushal', 'akshay', 'tejas']\n"
     ]
    }
   ],
   "source": [
    "# 6. Create a Python program that uses `filter()` to select words longer than a certain length from a list of strings.\n",
    "\n",
    "\n",
    "names_list =[\"aditya\",\"zoeb\",\"sagar\",\"om\",\"khushal\",\"akshay\",\"kim\",\"tejas\"]\n",
    "length_limit= 4\n",
    "print(list(filter(lambda a:len(a) >length_limit ,names_list)))"
   ]
  },
  {
   "cell_type": "code",
   "execution_count": 37,
   "id": "05591f40-ceee-4755-ab68-d7d277fa60c9",
   "metadata": {},
   "outputs": [
    {
     "name": "stdout",
     "output_type": "stream",
     "text": [
      "[6, 8, 10]\n"
     ]
    }
   ],
   "source": [
    "# 7. Write a Python program that uses the `filter()` function to select elements greater than a specified threshold from a list of values.\n",
    "\n",
    "threshold = 5\n",
    "\n",
    "values = [1, 6, 3, 8, 4, 10]\n",
    "\n",
    "print(list(filter(lambda x: x > threshold, values)))\n"
   ]
  },
  {
   "cell_type": "code",
   "execution_count": null,
   "id": "35e3677b-2bb5-453e-aaf2-c3492287b38d",
   "metadata": {},
   "outputs": [],
   "source": []
  },
  {
   "cell_type": "markdown",
   "id": "b2ccfd33-36c6-4b06-918f-53cc5b1ad4f2",
   "metadata": {},
   "source": [
    "# Recursion:-"
   ]
  },
  {
   "cell_type": "code",
   "execution_count": null,
   "id": "1d7a148c-6fca-466e-bd60-9627a422cc99",
   "metadata": {},
   "outputs": [],
   "source": []
  },
  {
   "cell_type": "markdown",
   "id": "5cb46270-b9da-428b-9bbf-5df5350d9625",
   "metadata": {},
   "source": [
    "# 1. Explain the concept of recursion in Python. How does it differ from iteration?\n",
    "Recursion in Python is a programming technique where a function calls itself to solve smaller instances of the same problem. Each call processes a subset of the problem until a base case is reached, which stops further recursive calls.\n",
    "\n",
    "\n",
    "Differences:\n",
    "\n",
    "State Management: Recursion uses the call stack to keep track of function calls and states, while iteration uses looping constructs and maintains state in variables.\n",
    "\n",
    "Memory Usage: Recursion can be less memory-efficient due to call stack overhead, whereas iteration generally uses less memory as it doesn’t involve multiple function calls.\n",
    "Readability and Complexity: Recursive solutions can be more elegant and easier to understand for problems that are naturally hierarchical (like tree structures), whereas iterative solutions might be more straightforward for simple repetitive tasks.\n",
    "\n",
    "\n"
   ]
  },
  {
   "cell_type": "code",
   "execution_count": 1,
   "id": "215d86b5-3bcc-4d63-9359-06f4adc74f92",
   "metadata": {},
   "outputs": [
    {
     "name": "stdin",
     "output_type": "stream",
     "text": [
      "enter the number =>  5\n"
     ]
    },
    {
     "name": "stdout",
     "output_type": "stream",
     "text": [
      "120\n"
     ]
    }
   ],
   "source": [
    "# 2. Write a Python program to calculate the factorial of a number using recursion.\n",
    "\n",
    "def factorial (n):\n",
    "\n",
    "    if n == 0:\n",
    "        return 1\n",
    "    else:\n",
    "        return n*factorial(n-1)\n",
    "\n",
    "n=int(input(\"enter the number => \"))\n",
    "print(factorial(n))"
   ]
  },
  {
   "cell_type": "code",
   "execution_count": 2,
   "id": "ba806367-538e-4a34-8a67-304b07e1b164",
   "metadata": {},
   "outputs": [
    {
     "name": "stdout",
     "output_type": "stream",
     "text": [
      "55\n"
     ]
    }
   ],
   "source": [
    "# 3. Create a recursive Python function to find the nth Fibonacci number.\n",
    "\n",
    "def fibonacci(n_th):\n",
    "    if n_th <= 1:\n",
    "        return n_th\n",
    "    else:\n",
    "        return fibonacci(n_th-1) + fibonacci(n_th-2)\n",
    "\n",
    "n_th=10\n",
    "print(fibonacci(n_th))\n",
    "\n"
   ]
  },
  {
   "cell_type": "code",
   "execution_count": 4,
   "id": "656ef605-3521-44ff-b484-829afa173280",
   "metadata": {},
   "outputs": [
    {
     "name": "stdout",
     "output_type": "stream",
     "text": [
      "140\n"
     ]
    }
   ],
   "source": [
    "# 4. Write a recursive Python function to calculate the sum of all elements in a list.\n",
    "\n",
    "def sum_of_all(num_list):\n",
    "    if len(num_list) < 1 :\n",
    "        return 0\n",
    "    else:\n",
    "        return num_list[0]+sum_of_all(num_list[1:])\n",
    "\n",
    "num_list=[10,20,35,60,15]\n",
    "print(sum_of_all(num_list))\n"
   ]
  },
  {
   "cell_type": "markdown",
   "id": "32ce2a40-b872-470a-b12e-cdef9e6f3662",
   "metadata": {},
   "source": [
    "# 5. How can you prevent a recursive function from running indefinitely, causing a stack overflow error?\n",
    "\n",
    "\n",
    "To prevent a recursive function from running indefinitely and causing a stack overflow:\n",
    "\n",
    "1} Base Case: Ensure there is a well-defined base case that stops the recursion. The base case should be a condition under which the function returns a result without making further recursive calls.\n",
    "\n",
    "2}Progress Towards Base Case: Make sure that each recursive call progresses towards the base case. For example, in a factorial function, the argument should decrease with each recursive call.\n",
    "\n",
    "3}Input Validation: Validate inputs to ensure they meet expected criteria that will eventually lead to reaching the base case.\n",
    "\n",
    "By properly designing the base case and ensuring the recursion progresses correctly, you can avoid infinite recursion and stack overflow errors."
   ]
  },
  {
   "cell_type": "code",
   "execution_count": 10,
   "id": "9d903ef5-26e9-499c-86e5-97e887cc1fcc",
   "metadata": {},
   "outputs": [
    {
     "name": "stdout",
     "output_type": "stream",
     "text": [
      "10\n",
      "5\n"
     ]
    }
   ],
   "source": [
    "# 6. Create a recursive Python function to find the greatest common divisor (GCD) of two numbers using the Euclidean algorithm.\n",
    "\n",
    "def gcd(a, b):\n",
    "    if b == 0:\n",
    "        return a\n",
    "    else:\n",
    "        return gcd(b, a % b)\n",
    "    \n",
    "print(gcd(10,40))\n",
    "print(gcd(50,35))"
   ]
  },
  {
   "cell_type": "code",
   "execution_count": 11,
   "id": "cfcd8894-a0c7-44a8-9172-727e46ef410a",
   "metadata": {},
   "outputs": [
    {
     "name": "stdout",
     "output_type": "stream",
     "text": [
      "elbicnivni\n"
     ]
    }
   ],
   "source": [
    "# 7. Write a recursive Python function to reverse a string.\n",
    "\n",
    "def reverse_string(string):\n",
    "    if len(string)<=1:\n",
    "        return string\n",
    "    else:\n",
    "        return reverse_string(string[1:])+string[0]\n",
    "\n",
    "string=\"invincible\"\n",
    "print(reverse_string(string))"
   ]
  },
  {
   "cell_type": "code",
   "execution_count": 13,
   "id": "2e8ea5d4-f878-446d-a6f2-949b5fcf7371",
   "metadata": {},
   "outputs": [
    {
     "name": "stdin",
     "output_type": "stream",
     "text": [
      "enter the number  4\n",
      "enter the powerth number  4\n"
     ]
    },
    {
     "name": "stdout",
     "output_type": "stream",
     "text": [
      "256\n"
     ]
    }
   ],
   "source": [
    "# 8. Create a recursive Python function to calculate the power of a number (x^n).\n",
    "\n",
    "\n",
    "def power(x,n):\n",
    "    if n==0:\n",
    "        return 1\n",
    "    else:\n",
    "        return x*power(x,n-1)\n",
    "\n",
    "x=int(input(\"enter the number \"))\n",
    "n=int(input(\"enter the powerth number \"))\n",
    "print(power(x,n))\n"
   ]
  },
  {
   "cell_type": "code",
   "execution_count": 17,
   "id": "b56362d3-28d6-4a10-b4b9-16bf07ddf8db",
   "metadata": {},
   "outputs": [
    {
     "name": "stdout",
     "output_type": "stream",
     "text": [
      "['the', 'teh', 'hte', 'het', 'eth', 'eht']\n"
     ]
    }
   ],
   "source": [
    "# 9. Write a recursive Python function to find all permutations of a given string.\n",
    "\n",
    "def permute_string(s):\n",
    "    if len(s) == 0:  \n",
    "        return [\"\"]\n",
    "    \n",
    "    permutations = []  \n",
    "    for i in range(len(s)):\n",
    "       \n",
    "        char = s[i]\n",
    "       \n",
    "        remaining = s[:i] + s[i+1:]\n",
    "        for p in permute_string(remaining):\n",
    "            permutations.append(char + p)\n",
    "    \n",
    "    return permutations\n",
    "\n",
    "s=\"the\"\n",
    "print(permute_string(s))"
   ]
  },
  {
   "cell_type": "code",
   "execution_count": 20,
   "id": "9d514f1c-db1b-469c-a1fd-f73d06473429",
   "metadata": {},
   "outputs": [
    {
     "name": "stdout",
     "output_type": "stream",
     "text": [
      "True\n"
     ]
    }
   ],
   "source": [
    "# 10. Write a recursive Python function to check if a string is a palindrome.\n",
    "\n",
    "def is_palindrome(s):\n",
    "    if len(s) <= 1:\n",
    "        return True\n",
    "    \n",
    "    if s[0] != s[-1]:\n",
    "        return False\n",
    "    \n",
    "    return is_palindrome(s[1:-1])\n",
    "\n",
    "s=\"radar\"\n",
    "print(is_palindrome(s))"
   ]
  },
  {
   "cell_type": "code",
   "execution_count": 22,
   "id": "3acbee45-dbe9-4364-9c92-420842e7b154",
   "metadata": {},
   "outputs": [
    {
     "name": "stdout",
     "output_type": "stream",
     "text": [
      "[[], [1], [2], [1, 2], [3], [1, 3], [2, 3], [1, 2, 3]]\n"
     ]
    }
   ],
   "source": [
    "# 11. Create a recursive Python function to generate all possible combinations of a list of elements.\n",
    "\n",
    "def combinations(lst):\n",
    "\n",
    "    if len(lst) == 0:\n",
    "        return [[]]\n",
    "    \n",
    "    first_element = lst[0]\n",
    "    rest_combinations = combinations(lst[1:])\n",
    "    \n",
    "    result = []\n",
    "    for combo in rest_combinations:\n",
    "        result.append(combo)\n",
    "        result.append([first_element] + combo)\n",
    "    \n",
    "    return result\n",
    "\n",
    "lst=[1,2,3]\n",
    "print(combinations(lst))"
   ]
  },
  {
   "cell_type": "code",
   "execution_count": null,
   "id": "896f6093-0dfe-4247-b4bb-d6f670f2c9a5",
   "metadata": {},
   "outputs": [],
   "source": []
  },
  {
   "cell_type": "markdown",
   "id": "3ae193a3-377b-49aa-98bc-dd7b3ca930ab",
   "metadata": {},
   "source": [
    "# Basics of Functions:"
   ]
  },
  {
   "cell_type": "code",
   "execution_count": null,
   "id": "fc4c195d-f9da-474c-b3de-660edfa0428c",
   "metadata": {},
   "outputs": [],
   "source": []
  },
  {
   "cell_type": "markdown",
   "id": "2631050b-cd4d-4bfe-be0f-bc9629c141e6",
   "metadata": {},
   "source": [
    "# 1. What is a function in Python, and why is it used?\n",
    "\n",
    "A function in Python is a reusable block of code that performs a specific task. It takes inputs (arguments), processes them, and often returns an output.\n",
    "Functions help organize and modularize code, making it more readable, maintainable, and easier to debug."
   ]
  },
  {
   "cell_type": "markdown",
   "id": "9fd84d39-69bf-4925-be18-8de72b79150f",
   "metadata": {},
   "source": [
    "# 2. How do you define a function in Python? Provide an example.\n",
    "\n",
    "define a function in Python using the def keyword, followed by the function name, parentheses, and a colon.\n",
    "\n",
    "The function body is indented.\n",
    "\n",
    "\n",
    "Here's an example:\n",
    "\n",
    "\n",
    "def greet(name): \n",
    "    \n",
    "    return f\"Hello, {name}!\"\n",
    "\n",
    "This greet function takes a name as an argument and returns a greeting message.\n"
   ]
  },
  {
   "cell_type": "markdown",
   "id": "59c254f2-40bd-46ee-9571-89b7b0159947",
   "metadata": {},
   "source": [
    "# 3. Explain the difference between a function definition and a function call.\n",
    "\n",
    "\n",
    "Function Definition: Specifies what the function does, including its name, parameters, and the code to execute.\n",
    "\n",
    "Function Call: Executes the function with specific arguments and uses the result.\n"
   ]
  },
  {
   "cell_type": "code",
   "execution_count": 35,
   "id": "77d60e4c-96c1-4da6-9796-5c8766d11d0b",
   "metadata": {},
   "outputs": [
    {
     "name": "stdout",
     "output_type": "stream",
     "text": [
      "The sum is: 8\n"
     ]
    }
   ],
   "source": [
    "# 4. Write a Python program that defines a function to calculate the sum of two numbers and then calls the function.\n",
    "\n",
    "def add_numbers(a, b):\n",
    "    return a + b\n",
    "\n",
    "result = add_numbers(5, 3)\n",
    "print(\"The sum is:\", result)"
   ]
  },
  {
   "cell_type": "markdown",
   "id": "84609526-3e3a-4daa-a923-966e49ebba79",
   "metadata": {},
   "source": [
    "# 5. What is a function signature, and what information does it typically include?\n",
    "\n",
    "A function signature is a part of the function definition that specifies its name, parameters, and their types. It typically includes:\n",
    "    \n",
    "\n",
    "Function Name: The identifier used to call the function.\n",
    "\n",
    "Parameters: The names and, optionally, types of inputs the function accepts.\n"
   ]
  },
  {
   "cell_type": "code",
   "execution_count": 26,
   "id": "5124b9ca-8e60-4d38-ad93-e5f57bf832f6",
   "metadata": {},
   "outputs": [
    {
     "name": "stdout",
     "output_type": "stream",
     "text": [
      "The sum is: 8\n"
     ]
    }
   ],
   "source": [
    "# 6. Create a Python function that takes two arguments and returns their product.\n",
    "\n",
    "def multiply_numbers(a, b):\n",
    "    return a + b\n",
    "\n",
    "result = multiply_numbers(5, 3)\n",
    "print(\"The sum is:\", result)"
   ]
  },
  {
   "cell_type": "code",
   "execution_count": null,
   "id": "2f6e5b5a-ae55-45e6-bb67-f0fa83801e67",
   "metadata": {},
   "outputs": [],
   "source": []
  },
  {
   "cell_type": "code",
   "execution_count": null,
   "id": "9298226e-a5e9-4595-aa5e-8004361b4b74",
   "metadata": {},
   "outputs": [],
   "source": [
    "Function Parameters and Arguments:"
   ]
  },
  {
   "cell_type": "code",
   "execution_count": null,
   "id": "34a96ec1-6769-47aa-87b5-3e4ac09fa62f",
   "metadata": {},
   "outputs": [],
   "source": []
  },
  {
   "cell_type": "markdown",
   "id": "a85d9251-dbc4-4547-87fd-b7472f5f5b7e",
   "metadata": {},
   "source": [
    "# 1. Explain the concepts of formal parameters and actual arguments in Python functions.\n",
    "\n",
    " 1} Formal Parameters:\n",
    "        \n",
    "-These are placeholders defined in the function signature.\n",
    "\n",
    "-They specify what kind of arguments a function can accept when it is called.\n",
    "\n",
    "-Formal parameters are variables listed inside the parentheses in the function definition.\n",
    "\n",
    "\n",
    " 2} Actual Arguments (Arguments):\n",
    "        \n",
    "-These are the values supplied to a function when it is called.\n",
    "\n",
    "-They are the real values passed to the function during the function call.\n",
    "\n",
    "-Actual arguments are the values provided within the parentheses when calling a function.\n"
   ]
  },
  {
   "cell_type": "code",
   "execution_count": 10,
   "id": "1d4945c1-feab-486b-8de2-cc7accd2ba36",
   "metadata": {},
   "outputs": [
    {
     "name": "stdout",
     "output_type": "stream",
     "text": [
      "(10, 20)\n",
      "(150, 20)\n",
      "(50, 100)\n",
      "(10, 150)\n"
     ]
    }
   ],
   "source": [
    "# 2. Write a Python program that defines a function with default argument values.\n",
    "\n",
    "def add(a=10,b=20):\n",
    "    return a,b\n",
    "\n",
    "print(add())\n",
    "print(add(150))\n",
    "print(add(50,100))\n",
    "print(add(10,150))"
   ]
  },
  {
   "cell_type": "markdown",
   "id": "f99a141d-3de5-4d15-82ed-5fb911180490",
   "metadata": {},
   "source": [
    "# 3. How do you use keyword arguments in Python function calls? Provide an example.\n",
    "\n",
    "In Python, keyword arguments allow you to specify which parameter you are assigning a value to when calling a function.\n",
    "\n",
    "This is done by explicitly naming the parameter in the function call.\n",
    "\n",
    "Using keyword arguments can make your code more readable and allows you to provide arguments in any order, as long as the parameter names are specified.\n",
    "\n",
    "\n",
    "\n",
    "def add (a,b):\n",
    "    \n",
    "     print(a+b)\n",
    "        \n",
    "add(a=\"hey\",b=\"google\") \n",
    "\n",
    "add(b=\"google\",a=\"hey\")"
   ]
  },
  {
   "cell_type": "code",
   "execution_count": 28,
   "id": "ca98c910-68a0-4df3-b464-8ad8debcb200",
   "metadata": {},
   "outputs": [
    {
     "name": "stdout",
     "output_type": "stream",
     "text": [
      "55\n"
     ]
    }
   ],
   "source": [
    "# 4. Create a Python function that accepts a variable number of arguments and calculates their sum.\n",
    "\n",
    "def sum_of_numbers(*numbers):\n",
    "    total=0\n",
    "    for i in numbers:\n",
    "        total=total+i\n",
    "    return total \n",
    "\n",
    "\n",
    "total_sum=sum_of_numbers(1,4,7,8,5,2,3,6,9,10)\n",
    "print(total_sum)"
   ]
  },
  {
   "cell_type": "markdown",
   "id": "93f78962-36c4-43fa-9831-d17e6b3e71f2",
   "metadata": {},
   "source": [
    "# 5. What is the purpose of the `*args` and `**kwargs` syntax in function parameter lists?\n",
    "\n",
    "- *args (Arbitrary Positional Arguments):\n",
    "    \n",
    "    \n",
    "-Allows a function to accept a variable number of positional arguments.\n",
    "\n",
    "-Collects these arguments into a tuple within the function.\n",
    "\n",
    "-Useful when the number of arguments that will be passed to a function is unknown or can vary.\n",
    "\n",
    "-Example: def my_function(*args):\n",
    "    \n",
    "    \n",
    "    \n",
    "-  **kwargs (Arbitrary Keyword Arguments):\n",
    "    \n",
    "\n",
    "-Allows a function to accept a variable number of keyword arguments (arguments specified with keywords).\n",
    "\n",
    "-Collects these arguments into a dictionary within the function.\n",
    "\n",
    "-Useful when you want to handle named arguments that were not defined in advance.\n",
    "\n",
    "-Example: def my_function(**kwargs):\n",
    "    "
   ]
  },
  {
   "cell_type": "code",
   "execution_count": null,
   "id": "c4e940ac-9d8f-48d2-9db6-03825677b0a0",
   "metadata": {},
   "outputs": [],
   "source": []
  },
  {
   "cell_type": "markdown",
   "id": "4f06aad8-a9bd-4b57-9f96-302c697dc889",
   "metadata": {},
   "source": [
    "# Return Values and Scoping:"
   ]
  },
  {
   "cell_type": "markdown",
   "id": "6dd42323-df58-4e03-9ea0-40c58da7693f",
   "metadata": {},
   "source": [
    "# 1. Describe the role of the `return` statement in Python functions and provide examples. -->\n",
    "\n",
    "- Purpose: Specifies the value(s) a function should output.\n",
    "\n",
    "ex=\n",
    "\n",
    "def add_numbers(x, y):\n",
    "    \n",
    "    return x + y\n",
    "\n",
    "\n",
    "result = add_numbers(3, 5) \n",
    "\n",
    "\n",
    "- Functionality: Terminates function execution upon encounter.\n",
    "\n",
    "ex=\n",
    "\n",
    "def is_even(number):\n",
    "    \n",
    "    if number % 2 == 0:\n",
    "        \n",
    "        return True\n",
    "    \n",
    "    else:\n",
    "        \n",
    "        return False\n",
    "    \n",
    "    print(\"This line will not be executed\")\n",
    "    \n",
    "\n",
    "- Default: Returns None if no value is specified.\n",
    "\n",
    "ex=\n",
    "\n",
    "def greet(name):\n",
    "    \n",
    "    print(f\"Hello, {name}!\")\n",
    "    \n",
    "result = greet(\"Alice\") \n",
    "\n",
    "\n",
    "- Flexibility: Supports multiple return values.\n",
    "\n",
    "ex =\n",
    "\n",
    "\n",
    "def get_info():\n",
    "    \n",
    "    name = \"John\"\n",
    "    \n",
    "    age = 30\n",
    "    \n",
    "    return name, age\n",
    "\n",
    "\n",
    "info = get_info()\n",
    "\n",
    "print(info) \n",
    "\n",
    "\n",
    "- Control: Allows early function exit based on conditions.\n",
    "\n",
    "ex=\n",
    "\n",
    "def process_data(data):\n",
    "    \n",
    "    if not data:\n",
    "        \n",
    "        return\n",
    "    \n"
   ]
  },
  {
   "cell_type": "markdown",
   "id": "c4a3069c-fb61-4d77-a100-a8f508d97b47",
   "metadata": {},
   "source": [
    "# 2. Explain the concept of variable scope in Python, including local and global variables.\n",
    "\n",
    "In Python, variable scope refers to the visibility and accessibility of variables within different parts of a program.\n",
    "Understanding variable scope is crucial because it determines where and how variables can be accessed and modified throughout your code.\n",
    "\n",
    "\n",
    "- Local Variables: Defined inside functions, accessible only within the function where they are declared.\n",
    "\n",
    "- Global Variables: Defined outside functions or explicitly declared as global inside functions, accessible throughout the entire program.\n",
    "\n",
    "- Variable Shadowing: When a local variable in a function has the same name as a global variable, it takes precedence within its scope.\n",
    "\n",
    "- Nonlocal Variables: Used in nested functions to modify variables in the enclosing (outer) function's scope."
   ]
  },
  {
   "cell_type": "code",
   "execution_count": 41,
   "id": "1ca7ad80-87be-4f68-a51b-ed65c232bfac",
   "metadata": {},
   "outputs": [
    {
     "name": "stdout",
     "output_type": "stream",
     "text": [
      "15\n"
     ]
    }
   ],
   "source": [
    "# 3. Write a Python program that demonstrates the use of global variables within functions.\n",
    "\n",
    "total = 5\n",
    "\n",
    "def add_to_total(num):\n",
    "    global total\n",
    "    total += num\n",
    "    print(total)\n",
    "\n",
    "\n",
    "add_to_total(10)\n"
   ]
  },
  {
   "cell_type": "code",
   "execution_count": 1,
   "id": "c51b9701-b0f4-4317-bccf-95d608ff4577",
   "metadata": {},
   "outputs": [
    {
     "name": "stdin",
     "output_type": "stream",
     "text": [
      "enter the number =>  6\n"
     ]
    },
    {
     "name": "stdout",
     "output_type": "stream",
     "text": [
      "720\n"
     ]
    }
   ],
   "source": [
    "# 4. Create a Python function that calculates the factorial of a number and returns it.\n",
    "def factorial (n):\n",
    "\n",
    "    if n == 0:\n",
    "        return 1\n",
    "    else:\n",
    "        return n*factorial(n-1)\n",
    "\n",
    "n=int(input(\"enter the number => \"))\n",
    "print(factorial(n))\n",
    "\n"
   ]
  },
  {
   "cell_type": "markdown",
   "id": "462c8e3a-b305-4a22-8243-1400dbea5bdb",
   "metadata": {},
   "source": [
    "# 5. How can you access variables defined outside a function from within the function?\n",
    "\n",
    "- Accessing Global Variables: You can directly use the global variable inside the function. \n",
    "\n",
    "There’s no need for any special declaration if you only need to read the value.\n",
    "\n",
    "\n",
    "x = 10\n",
    "\n",
    "def print_x():\n",
    "    \n",
    "    print(x)  # Accesses and prints the global variable x\n",
    "\n",
    "print_x()\n",
    "\n",
    "\n",
    "- Modifying Global Variables: Use the global keyword inside the function to modify the global variable.\n",
    "\n",
    "\n",
    "x = 10\n",
    "\n",
    "def update_x():\n",
    "    \n",
    "    global x\n",
    "    \n",
    "    x = 20  # Modifies the global variable x\n",
    "\n",
    "update_x()\n",
    "\n",
    "print(x)  # Output: 20\n",
    "\n",
    "In summary, use the global variable directly for reading, and declare it with global if you need to modify it within a function.\n"
   ]
  },
  {
   "cell_type": "code",
   "execution_count": null,
   "id": "2be74cd4-32c4-48c2-908b-ed745f9448d5",
   "metadata": {},
   "outputs": [],
   "source": []
  },
  {
   "cell_type": "markdown",
   "id": "b879861a-11ed-4c5d-bf54-3bf7ff99ddb5",
   "metadata": {},
   "source": [
    "# Lambda Functions and Higher-Order Functions:"
   ]
  },
  {
   "cell_type": "code",
   "execution_count": null,
   "id": "14682b8b-2b38-4ec7-a7ff-8717392cb3e2",
   "metadata": {},
   "outputs": [],
   "source": []
  },
  {
   "cell_type": "markdown",
   "id": "d18deeff-c31e-4c41-b572-0cf52f4c3dfe",
   "metadata": {},
   "source": [
    "# 1. What are lambda functions in Python, and when are they typically used?\n",
    "\n",
    "\n",
    "- Lambda functions in Python are small, anonymous functions defined using the lambda keyword.\n",
    "They can have any number of arguments but only one expression. \n",
    "\n",
    "- The syntax is:    \n",
    " lambda arguments: expression\n",
    "\n",
    "- When to use lambda functions:\n",
    "\n",
    "Short, Simple Functions: When you need a simple function for a short period, and defining a full function with def feels excessive.\n",
    "\n",
    "Functional Programming: Often used with functions like map(), filter(), and sorted() for concise, inline operations."
   ]
  },
  {
   "cell_type": "code",
   "execution_count": 2,
   "id": "14dd0fee-1969-4fc4-8cbd-9f90e98c00b3",
   "metadata": {},
   "outputs": [
    {
     "name": "stdout",
     "output_type": "stream",
     "text": [
      "[(2, 1), (4, 2), (1, 5), (3, 8)]\n"
     ]
    }
   ],
   "source": [
    "# 2. Write a Python program that uses lambda functions to sort a list of tuples based on the second element.\n",
    "\n",
    "data = [(1, 5), (2, 1), (3, 8), (4, 2)]\n",
    "sorted_data = sorted(data, key=lambda x: x[1])\n",
    "print(sorted_data)"
   ]
  },
  {
   "cell_type": "markdown",
   "id": "9599664d-0d0b-403c-8c7c-b7a85050fde6",
   "metadata": {},
   "source": [
    "# 3. Explain the concept of higher-order functions in Python, and provide an example.\n",
    "\n",
    "- Higher-order functions in Python are functions that can:\n",
    "\n",
    "1)Accept other functions as arguments.\n",
    "\n",
    "2)Return functions as results.\n",
    "\n",
    "These functions enable more flexible and abstract programming by allowing you to manipulate functions just like any other data.\n",
    "\n",
    "\n",
    "\n",
    "Example:\n",
    "\n",
    "Here’s a simple example of a higher-order function that takes another function as an argument:\n",
    "\n",
    "\n",
    "\n",
    "def apply_function(func, value):\n",
    "\n",
    "    return func(value)\n",
    "\n",
    "\n",
    "def square(x):\n",
    "\n",
    "    return x * x\n",
    "\n",
    "\n",
    "result = apply_function(square, 5)\n",
    "\n",
    "print(result)  # Output: 25"
   ]
  },
  {
   "cell_type": "code",
   "execution_count": 3,
   "id": "696f7626-77e9-4eab-8df5-09dc9d1811b4",
   "metadata": {},
   "outputs": [
    {
     "name": "stdout",
     "output_type": "stream",
     "text": [
      "[2, 4, 6, 8, 10]\n"
     ]
    }
   ],
   "source": [
    "# 4. Create a Python function that takes a list of numbers and a function as arguments, applying the function to each element in the list.\n",
    "\n",
    "def apply_function_to_list(numbers, func):\n",
    "    \n",
    "    \"\"\"\n",
    "    Apply a function to each element in a list of numbers.\n",
    "\n",
    "    Parameters:\n",
    "    numbers (list): A list of numbers.\n",
    "    func (function): A function to apply to each element in the list.\n",
    "\n",
    "    Returns:\n",
    "    list: A list of the results of applying the function to each element.\n",
    "    \"\"\"\n",
    "    return list(map(func, numbers))\n",
    "\n",
    "# Example usage\n",
    "if __name__ == \"__main__\":\n",
    "    def double(x):\n",
    "        return x * 2\n",
    "\n",
    "    numbers = [1, 2, 3, 4, 5]\n",
    "\n",
    "    doubled_numbers = apply_function_to_list(numbers, double)\n",
    "    print(doubled_numbers)  "
   ]
  },
  {
   "cell_type": "code",
   "execution_count": null,
   "id": "9ed2f481-dd5b-45c0-baa8-b0451f19fc69",
   "metadata": {},
   "outputs": [],
   "source": []
  },
  {
   "cell_type": "markdown",
   "id": "afbaa5c8-15c7-4900-bc06-1d46fdc0569d",
   "metadata": {},
   "source": [
    "# Built-in Functions:"
   ]
  },
  {
   "cell_type": "code",
   "execution_count": null,
   "id": "74081e57-df27-44f5-8c35-a76c95b2aa26",
   "metadata": {},
   "outputs": [],
   "source": []
  },
  {
   "cell_type": "markdown",
   "id": "a17ca33c-e699-4f55-a669-49a9b71b507f",
   "metadata": {},
   "source": [
    "# 1. Describe the role of built-in functions like `len()`, `max()`, and `min()` in Python.\n",
    "\n",
    "len(): Returns the number of items in an object (such as a list, tuple, string, or dictionary). It provides the length or size of the object.\n",
    "\n",
    "max(): Returns the largest item in an iterable (like a list or tuple) or the largest of two or more arguments. It is used to find the maximum value.\n",
    "\n",
    "min(): Returns the smallest item in an iterable or the smallest of two or more arguments. It is used to find the minimum value.\n",
    "\n"
   ]
  },
  {
   "cell_type": "code",
   "execution_count": 5,
   "id": "313b161f-0f3e-4425-a1f4-f9b382942fb8",
   "metadata": {},
   "outputs": [
    {
     "name": "stdout",
     "output_type": "stream",
     "text": [
      "[1, 4, 9, 16, 25]\n"
     ]
    }
   ],
   "source": [
    "# 2. Write a Python program that uses the `map()` function to apply a function to each element of a list.\n",
    "\n",
    "sq_list=[1,2,3,4,5]\n",
    "print(list(map(lambda sq_list:sq_list**2,sq_list)))"
   ]
  },
  {
   "cell_type": "markdown",
   "id": "d5e7182c-7c6e-4377-9ae6-49ceaefb4968",
   "metadata": {},
   "source": [
    "# 3. How does the `filter()` function work in Python, and when would you use it?\n",
    "\n",
    "The filter() function in Python is used to filter elements from an iterable based on a function that returns True or False.\n",
    "\n",
    "\n",
    "- How It Works:\n",
    "\n",
    "Syntax: filter(function, iterable)\n",
    "\n",
    "function: A function that takes an element and returns True or False.\n",
    "\n",
    "iterable: The iterable (like a list or tuple) to filter.\n",
    "\n",
    "When to Use:\n",
    "\n",
    "Use filter() when you need to select elements from a collection that meet specific criteria defined by a function. It's useful for filtering data based on conditions.\n",
    "\n",
    "\n"
   ]
  },
  {
   "cell_type": "code",
   "execution_count": 10,
   "id": "394e582f-5ae5-4267-a0c6-c2088ebbd47e",
   "metadata": {},
   "outputs": [
    {
     "name": "stdout",
     "output_type": "stream",
     "text": [
      "720\n"
     ]
    }
   ],
   "source": [
    "# 4. Create a Python program that uses the `reduce()` function to find the product of all elements in a list.\n",
    "from functools import reduce\n",
    "list=[1,2,3,4,5,6]\n",
    "print(reduce(lambda a,b:a*b,list))"
   ]
  },
  {
   "cell_type": "code",
   "execution_count": null,
   "id": "5f83bf18-c40f-447b-bb70-694a24487e42",
   "metadata": {},
   "outputs": [],
   "source": []
  },
  {
   "cell_type": "markdown",
   "id": "bf4ef74c-f33b-4d21-9dca-2c51debd210d",
   "metadata": {},
   "source": [
    "# Function Documentation and Best Practices:"
   ]
  },
  {
   "cell_type": "code",
   "execution_count": null,
   "id": "790cbb8a-93c5-4d88-8c38-f3bb15d89ae0",
   "metadata": {},
   "outputs": [],
   "source": []
  },
  {
   "cell_type": "markdown",
   "id": "a16def22-ec13-432d-99bb-3669d529184f",
   "metadata": {},
   "source": [
    "# 1. Explain the purpose of docstrings in Python functions and how to write them.\n",
    "\n",
    "Docstrings in Python provide a convenient way to document your functions, classes, and modules. \n",
    "They describe what the function does, its parameters, and its return values, helping users understand its purpose and usage.\n",
    "\n",
    "- Purpose:\n",
    "\n",
    "1)Documentation: Provides information about the function's behavior, parameters, and return values.\n",
    "\n",
    "2)Help: Can be accessed via the help() function or interactive environments, aiding in understanding and usage.\n",
    "\n",
    "\n",
    "- How to Write:\n",
    "\n",
    "Syntax: Enclosed in triple quotes (\"\"\" or ''').\n",
    "\n",
    "Placement: Immediately after the function definition."
   ]
  },
  {
   "cell_type": "markdown",
   "id": "2a3bc6e3-1981-48cc-8ef7-2217fb6efa27",
   "metadata": {},
   "source": [
    "# 2. Describe some best practices for naming functions and variables in Python, including naming conventions and guidelines.\n",
    "\n",
    "some best practices for naming functions and variables in Python:\n",
    "\n",
    "\n",
    "1) Use descriptive names: Choose names that clearly convey the purpose or intent of the function or variable. Avoid single-letter names or abbreviations that are unclear.\n",
    "\n",
    "2)Follow PEP 8 guidelines: PEP 8 is the style guide for Python code, and it provides conventions for naming functions and variables. Some key points include:\n",
    "\n",
    "-Use lowercase_words_with_underscores for functions, methods, and variable names.\n",
    "\n",
    "-Use CapitalizedWords (also known as PascalCase) for class names.\n",
    "\n",
    "-Use ALL_CAPS for constants.\n",
    "\n",
    "3)Be consistent: Maintain a consistent naming style throughout your codebase. This improves readability and makes it easier for others (or yourself) to understand the code.\n",
    "\n",
    "4)Avoid using built-in names: Do not use names that conflict with Python keywords or built-in functions (e.g., list, str, int).\n",
    "\n",
    "5)Use verbs for function names: Function names should typically be verbs or verb phrases that describe the action performed by the function (e.g., calculate_total, validate_input).\n",
    "\n",
    "6)Use nouns for variable names: Variable names should generally be nouns or noun phrases that describe the data they hold (e.g., customer_name, account_balance).\n",
    "\n",
    "7)Use meaningful abbreviations: If abbreviations are necessary, ensure they are widely understood and not ambiguous. For example, num_items is preferable to n_it.\n",
    "\n",
    "8)Consider context: Take into account the context in which the function or variable is used. Names should be concise but descriptive enough to understand their purpose without additional explanation.\n",
    "\n"
   ]
  }
 ],
 "metadata": {
  "kernelspec": {
   "display_name": "Python 3 (ipykernel)",
   "language": "python",
   "name": "python3"
  },
  "language_info": {
   "codemirror_mode": {
    "name": "ipython",
    "version": 3
   },
   "file_extension": ".py",
   "mimetype": "text/x-python",
   "name": "python",
   "nbconvert_exporter": "python",
   "pygments_lexer": "ipython3",
   "version": "3.10.8"
  }
 },
 "nbformat": 4,
 "nbformat_minor": 5
}
